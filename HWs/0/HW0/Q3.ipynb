{
  "cells": [
    {
      "attachments": {},
      "cell_type": "markdown",
      "metadata": {
        "id": "P9PoDHBl3QKv"
      },
      "source": [
        "# Q3\n",
        "*Work with Numpy*<br>\n",
        "In this notebook you're going to work with the numpy library to solve the problems<br>\n",
        "Please follow the instructions and hints provided for each cell"
      ]
    },
    {
      "attachments": {},
      "cell_type": "markdown",
      "metadata": {},
      "source": [
        "## Part A"
      ]
    },
    {
      "cell_type": "code",
      "execution_count": 1,
      "metadata": {
        "id": "1ZbZ5H1j5Zhw"
      },
      "outputs": [],
      "source": [
        "import numpy as np"
      ]
    },
    {
      "cell_type": "code",
      "execution_count": 2,
      "metadata": {
        "id": "5nvuXUyB2aLJ"
      },
      "outputs": [],
      "source": [
        "def create_matrix(n):\n",
        "  \"\"\"\n",
        "  In this function you should create matrix in order of n*n with random numbers \n",
        "  in the [n, n+100) interval.\n",
        "\n",
        "  see the bellow link:\n",
        "    https://numpy.org/doc/stable/reference/random/generated/numpy.random.randint.html\n",
        "\n",
        "  Arguments:\n",
        "    inputs:\n",
        "      n: an integer describing the order of the matrix\n",
        "    outputs:\n",
        "      created matrix  \n",
        "  \"\"\"\n",
        "\n",
        "  matrix = []\n",
        "  #loop for make row and add random num in it \n",
        "  #finally add satr to matrix\n",
        "  for i in range(n):\n",
        "    satr=[]\n",
        "    for j in range(n):\n",
        "      rand_num=np.random.randint(n,n+100)\n",
        "      satr.append(rand_num)\n",
        "    matrix.append(satr)    \n",
        "\n",
        "  return matrix"
      ]
    },
    {
      "cell_type": "code",
      "execution_count": 3,
      "metadata": {
        "id": "1PiKjLsl6KhD"
      },
      "outputs": [
        {
          "name": "stdout",
          "output_type": "stream",
          "text": [
            "[[81, 28, 7], [92, 86, 57], [79, 44, 21]]\n"
          ]
        }
      ],
      "source": [
        "\"\"\"\n",
        "In this cell you should get the input n and create the matrix by calling the function\n",
        "Then print the matrix\n",
        "\"\"\"\n",
        "#input size of matrix n*n\n",
        "m = input()\n",
        "n=int(m)\n",
        "matrix = create_matrix(n)\n",
        "# print matrix\n",
        "print(matrix)\n"
      ]
    },
    {
      "cell_type": "code",
      "execution_count": 4,
      "metadata": {
        "id": "Cnocq2_56mdx"
      },
      "outputs": [],
      "source": [
        "def count_digits(matrix):\n",
        "  \"\"\"\n",
        "  In this function you should implement a routine to count the digits in the given matrix.\n",
        "\n",
        "  Arguments:\n",
        "    inputs:\n",
        "      matrix: input matrix\n",
        "    outputs:\n",
        "      digits: a dictionary containing digits as its keys and the counted numbers as its value\n",
        "  \"\"\"\n",
        "\n",
        "  digits = {}\n",
        "  #make dictionary with key string of digits and base value 0 \n",
        "  for i in range(10):\n",
        "    digits[str(i)]=0\n",
        "  \n",
        "  #iterate through matrrix and check num and digits and find count of digits \n",
        "  # and store in digits dictionary   \n",
        "  for satr in matrix:\n",
        "    for num in satr:\n",
        "      for i in str(num):\n",
        "        digits[i]=digits[i]+1\n",
        "  return digits\n"
      ]
    },
    {
      "cell_type": "code",
      "execution_count": 5,
      "metadata": {
        "id": "Aq3mHGcc7f2i"
      },
      "outputs": [
        {
          "name": "stdout",
          "output_type": "stream",
          "text": [
            "{'0': 0, '1': 2, '2': 3, '3': 0, '4': 2, '5': 1, '6': 1, '7': 3, '8': 3, '9': 2}\n"
          ]
        }
      ],
      "source": [
        "\"\"\"\n",
        "In this cell call the implemented function and print the result\n",
        "\"\"\"\n",
        "#call method for find count of digits\n",
        "ans=count_digits(matrix)\n",
        "print(ans)"
      ]
    },
    {
      "attachments": {},
      "cell_type": "markdown",
      "metadata": {
        "id": "ALqhYliZ8Ie8"
      },
      "source": [
        "## Part B"
      ]
    },
    {
      "cell_type": "code",
      "execution_count": 6,
      "metadata": {
        "id": "bhTfjtO78LT1"
      },
      "outputs": [],
      "source": [
        "def traverse_matrix(matrix):\n",
        "  \"\"\"\n",
        "  Traverse the input matrix in the given manner then print result\n",
        "\n",
        "  Arguments:\n",
        "    inputs:\n",
        "      matrix: input matrix\n",
        "    outputs\n",
        "  \"\"\"\n",
        "  i=j=0\n",
        "  t=len(matrix)\n",
        "  # length of diameter for iteration\n",
        "  fx=2\n",
        "  #flag for understand when recieve to diameter\n",
        "  flag=1\n",
        "  if t!=1:\n",
        "    while (fx>0):\n",
        "      #top of matrix diameter  \n",
        "      if(flag==1):\n",
        "        #traverse for direction \n",
        "        if fx%2==0:\n",
        "          print(matrix[i][j])\n",
        "          j=j+1\n",
        "        else:\n",
        "          print(matrix[i][j])\n",
        "          i=i+1\n",
        "      #for bottom of diameter\n",
        "      else:\n",
        "        if fx%2==0:\n",
        "          print(matrix[i][j])\n",
        "          i+=1\n",
        "        else:\n",
        "          print(matrix[i][j])\n",
        "          j+=1\n",
        "      #iterate diameter\n",
        "      for k in range(fx-1):\n",
        "        print(matrix[i][j])\n",
        "        if fx%2==0:\n",
        "          i+=1\n",
        "          j-=1\n",
        "        else:\n",
        "          i-=1\n",
        "          j+=1\n",
        "      #add fx when top of diameter\n",
        "      #an minus 1 when bottom of diameter\n",
        "      if(fx<n and flag==1):\n",
        "        fx+=1\n",
        "        continue\n",
        "      elif (fx<n and flag==0):\n",
        "        fx-=1\n",
        "        continue\n",
        "      if(fx==n):\n",
        "        flag=0\n",
        "        fx-=1\n",
        "        continue\n",
        "  else:\n",
        "    print(matrix[0][0])\n",
        "#print end number \n",
        "  print(matrix[i][j])"
      ]
    },
    {
      "cell_type": "code",
      "execution_count": 7,
      "metadata": {
        "id": "9Imf-wvd8oKL"
      },
      "outputs": [
        {
          "name": "stdout",
          "output_type": "stream",
          "text": [
            "81\n",
            "28\n",
            "92\n",
            "79\n",
            "86\n",
            "7\n",
            "57\n",
            "44\n",
            "21\n"
          ]
        }
      ],
      "source": [
        "traverse_matrix(matrix)\n",
        "#print output"
      ]
    }
  ],
  "metadata": {
    "colab": {
      "provenance": []
    },
    "kernelspec": {
      "display_name": "Python 3",
      "language": "python",
      "name": "python3"
    },
    "language_info": {
      "codemirror_mode": {
        "name": "ipython",
        "version": 3
      },
      "file_extension": ".py",
      "mimetype": "text/x-python",
      "name": "python",
      "nbconvert_exporter": "python",
      "pygments_lexer": "ipython3",
      "version": "3.11.0"
    },
    "vscode": {
      "interpreter": {
        "hash": "318f2c383d48220c821fefd227250c35bb828f95042f5889a5ad1704b1baf79c"
      }
    }
  },
  "nbformat": 4,
  "nbformat_minor": 0
}
