{
 "cells": [
  {
   "cell_type": "markdown",
   "metadata": {},
   "source": [
    "# Q4"
   ]
  },
  {
   "cell_type": "markdown",
   "metadata": {},
   "source": [
    "## Part A"
   ]
  },
  {
   "cell_type": "code",
   "execution_count": 3,
   "metadata": {},
   "outputs": [
    {
     "name": "stdout",
     "output_type": "stream",
     "text": [
      "m1 : [[1 2 3]\n",
      " [4 5 6]\n",
      " [7 8 9]]\n",
      "transpose m1: [[1 4 7]\n",
      " [2 5 8]\n",
      " [3 6 9]]\n",
      "result: [[0.78125  1.78125  2.78125 ]\n",
      " [4.       5.       6.      ]\n",
      " [7.171875 8.171875 9.171875]]\n"
     ]
    }
   ],
   "source": [
    "\"\"\"\n",
    "Please define the mentioned matrices and the operations\n",
    "\n",
    "consider the bellow links:\n",
    "https://numpy.org/doc/stable/reference/generated/numpy.transpose.html\n",
    "\n",
    "https://numpy.org/doc/stable/reference/generated/numpy.dot.html\n",
    "\n",
    "\"\"\"\n",
    "import numpy as np\n",
    "#make matrix m1 \n",
    "m1=np.array([[1,2,3],[4,5,6],[7,8,9]])\n",
    "print('m1 :',m1)\n",
    "#transpose m1 and print it for check\n",
    "m1_t=np.transpose(m1)\n",
    "print('transpose m1:',m1_t)\n",
    "#dot production of matrix and trnspose of it  \n",
    "m1_dot=np.dot(m1_t,m1)\n",
    "#inverse it with funcyion of numpy\n",
    "m1_inv=np.linalg.inv(m1_dot)\n",
    "temp=np.array([[1],[-1],[1]])\n",
    "m2=np.dot(m1_t,temp)\n",
    "m11=np.dot(m1_inv,m2)\n",
    "ans=np.add(m11,m1)\n",
    "#print result\n",
    "print('result:',ans)\n"
   ]
  },
  {
   "cell_type": "markdown",
   "metadata": {},
   "source": [
    "## Part B"
   ]
  },
  {
   "cell_type": "code",
   "execution_count": 12,
   "metadata": {},
   "outputs": [],
   "source": [
    "def window_sliding(A, B):\n",
    "\n",
    "  \"\"\"\n",
    "  In this function you should implement the sliding window method\n",
    "\n",
    "  Arguments:\n",
    "    inputs:\n",
    "      A: a matrix of 3*3 order for treating as the window\n",
    "      B: a matrix of 5*5 order for treating as the input matrix\n",
    "    outputs:\n",
    "      res: resulting matrix of the sliding window \n",
    "  \"\"\"\n",
    "  # write function for compute answer of production AA with part of B \n",
    "  # and return it\n",
    "  def calc_func(a,b):\n",
    "    ans=0\n",
    "    for i in range(3):\n",
    "      for j in range(3):\n",
    "        ans=ans+(a[i][j]*b[i][j])\n",
    "    return ans\n",
    "\n",
    "  #for make 3*3 array,\n",
    "  #use zeros for build 3*3 array with amount of 0\n",
    "  res =np.zeros((3,3))\n",
    "  #size of fx A is 3 and size of fx B is 5 \n",
    "  #this same for fy\n",
    "  # for this reson we write num variable for show reason why use 3\n",
    "  num=5-3+1\n",
    "  for i in range(0,num):\n",
    "    for j in range(0,3):\n",
    "      res[i][j]+=calc_func(A,B[i:i+3,j:j+3])\n",
    "\n",
    "  return res"
   ]
  },
  {
   "cell_type": "code",
   "execution_count": 13,
   "metadata": {},
   "outputs": [
    {
     "name": "stdout",
     "output_type": "stream",
     "text": [
      "[[-7. -5. -7.]\n",
      " [-5. -2. -5.]\n",
      " [-7. -5. -7.]]\n"
     ]
    }
   ],
   "source": [
    "#initialize A,B and call method for compute aanswer and show it\n",
    "A =np.array([ [1,1,1], [1,-9,1], [1,1,1]])\n",
    "B =np.array([[1,1,1,1,1], [1,2,2,2,1], [1,2,2,2,1], [1,2,2,2,1], [1,1,1,1,1]])\n",
    "print(window_sliding(A, B))"
   ]
  }
 ],
 "metadata": {
  "kernelspec": {
   "display_name": "Python 3",
   "language": "python",
   "name": "python3"
  },
  "language_info": {
   "codemirror_mode": {
    "name": "ipython",
    "version": 3
   },
   "file_extension": ".py",
   "mimetype": "text/x-python",
   "name": "python",
   "nbconvert_exporter": "python",
   "pygments_lexer": "ipython3",
   "version": "3.11.0"
  },
  "orig_nbformat": 4,
  "vscode": {
   "interpreter": {
    "hash": "318f2c383d48220c821fefd227250c35bb828f95042f5889a5ad1704b1baf79c"
   }
  }
 },
 "nbformat": 4,
 "nbformat_minor": 2
}
