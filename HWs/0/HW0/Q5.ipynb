{
  "cells": [
    {
      "cell_type": "markdown",
      "metadata": {
        "id": "lNKYy5P_DEV-"
      },
      "source": [
        "## Modifying the picture with opencv and numpy libraries"
      ]
    },
    {
      "cell_type": "markdown",
      "metadata": {
        "id": "I4ZzLaB92F76"
      },
      "source": [
        "# New Section"
      ]
    },
    {
      "cell_type": "code",
      "execution_count": 2,
      "metadata": {
        "id": "yexCZ1RCByIY"
      },
      "outputs": [],
      "source": [
        "import numpy as np\n",
        "import matplotlib.pyplot as plt\n",
        "import cv2"
      ]
    },
    {
      "cell_type": "code",
      "execution_count": 3,
      "metadata": {
        "id": "MP_Qkzju2AAJ"
      },
      "outputs": [],
      "source": [
        "!wget -q https://github.com/AlexeyAB/darknet/releases/download/yolov4/yolov7.weights "
      ]
    },
    {
      "cell_type": "code",
      "execution_count": 4,
      "metadata": {
        "id": "1ZkWNw5R2AAJ"
      },
      "outputs": [],
      "source": [
        "!wget -q https://raw.githubusercontent.com/AlexeyAB/darknet/master/cfg/yolov7.cfg"
      ]
    },
    {
      "cell_type": "code",
      "execution_count": 5,
      "metadata": {
        "id": "0Z72Jw09-zmZ"
      },
      "outputs": [],
      "source": [
        "net = cv2.dnn.readNetFromDarknet('yolov7.cfg', 'yolov7.weights')\n",
        "net.setPreferableBackend(cv2.dnn.DNN_BACKEND_OPENCV)"
      ]
    },
    {
      "cell_type": "code",
      "execution_count": 6,
      "metadata": {
        "id": "_RCASdxi--fw"
      },
      "outputs": [],
      "source": [
        "yolo_model = cv2.dnn_DetectionModel(net)\n",
        "yolo_model.setInputParams(size=(1280, 1280), scale=1 / 255, swapRB=True)"
      ]
    },
    {
      "cell_type": "markdown",
      "metadata": {
        "id": "xThGxCMDDUFO"
      },
      "source": [
        "**Just run the above cells without any changes**"
      ]
    },
    {
      "cell_type": "code",
      "execution_count": 9,
      "metadata": {
        "colab": {
          "base_uri": "https://localhost:8080/"
        },
        "id": "CBTcXsRpKjRM",
        "outputId": "3fd85b75-af07-4b74-fea5-49cd3579f3bd"
      },
      "outputs": [
        {
          "name": "stdout",
          "output_type": "stream",
          "text": [
            "shape (721, 1281, 3)\n",
            "type uint8\n",
            "avg. pixel 139.98719468688319\n",
            "min pixel 0\n",
            "max pixel 255\n",
            "max second d 255\n",
            "min second d 0\n"
          ]
        }
      ],
      "source": [
        "\"\"\"\n",
        "Please read the provided image in RGB with opencv lib and print the matrices\n",
        "\n",
        "see bellow links:\n",
        "https://numpy.org/doc/stable/reference/generated/numpy.maximum.html\n",
        "https://numpy.org/doc/stable/reference/generated/numpy.minimum.html\n",
        "https://numpy.org/doc/stable/reference/generated/numpy.mean.html\n",
        "\"\"\"\n",
        "#print what say in question \n",
        "# use amin and amax for print min and max pixel and second deminsonal\n",
        "image = cv2.imread('Q5.png')\n",
        "print('shape',image.shape)\n",
        "print('type',image.dtype)\n",
        "print('avg. pixel',np.mean(image))\n",
        "print('min pixel',np.amin(image))\n",
        "print('max pixel',np.amax(image))\n",
        "print('max second d',np.amax(image[:,:,0]))\n",
        "print('min second d',np.amin(image[:,:,0]))\n",
        "\n"
      ]
    },
    {
      "cell_type": "code",
      "execution_count": 10,
      "metadata": {
        "id": "N3xB0Rh2FRZ_"
      },
      "outputs": [],
      "source": [
        "\n",
        "#### Just run this cell \n",
        "\n",
        "\n",
        "CONFIDENCE_THRESHOLD = 0.2\n",
        "NMS_THRESHOLD = 0.4 \n",
        "\n",
        "classes, scores, boxes = yolo_model.detect(image, CONFIDENCE_THRESHOLD, NMS_THRESHOLD)\n",
        "\n",
        "detections = [(box, score) for classid, score, box in zip(classes, scores, boxes)]"
      ]
    },
    {
      "cell_type": "markdown",
      "metadata": {
        "id": "Ot4ivZb6H7r7"
      },
      "source": [
        "the result of the detection is classes of each object, \n",
        "confidence of predicting the class of that object and parameters of the bounding box\n",
        "\n",
        "for every bounding box, we have bellow information:\n",
        "\n",
        "x_min: the x coordinate of the left up corner of the bounding box\n",
        "\n",
        "y_min: the y coordinate of the left up corner of the bounding box\n",
        "\n",
        "w: the width of the bounding box\n",
        "\n",
        "h: the height of the bounding box"
      ]
    },
    {
      "cell_type": "code",
      "execution_count": 11,
      "metadata": {
        "colab": {
          "base_uri": "https://localhost:8080/"
        },
        "id": "GjB_FADQH7bF",
        "outputId": "eff010d3-3957-421a-8de4-f4c482475fb9"
      },
      "outputs": [
        {
          "name": "stdout",
          "output_type": "stream",
          "text": [
            "item first is\" (array([912, 634,  58,  86], dtype=int32), 0.91715723)\n",
            "trust detect is 0.91715723\n",
            "x_min is 912\n",
            "y_min is 634\n",
            "width is 58\n",
            "height is 86\n"
          ]
        }
      ],
      "source": [
        "### please print the details of the detections\n",
        "##details parameters in above \n",
        "print('item first is\"',detections[0])\n",
        "print('trust detect is',detections[0][1])\n",
        "print('x_min is',detections[0][0][0])\n",
        "print('y_min is',detections[0][0][1])\n",
        "print('width is',detections[0][0][2])\n",
        "print('height is',detections[0][0][3])"
      ]
    },
    {
      "cell_type": "code",
      "execution_count": 20,
      "metadata": {
        "id": "OplX-80cLma3"
      },
      "outputs": [],
      "source": [
        "def visualize(frame, detections):\n",
        "  \"\"\"\n",
        "  Draw all bounding boxes on the main original image and show the result\n",
        "  Then save result with result.png name\n",
        "\n",
        "  see the bellow links:\n",
        "  https://matplotlib.org/stable/api/_as_gen/matplotlib.pyplot.imshow.html\n",
        "  https://www.geeksforgeeks.org/python-opencv-cv2-imwrite-method/\n",
        "  \"\"\"\n",
        "  ##store Coordinates of image and draw rectangle on image\n",
        "  generated_img = frame\n",
        "  for b_box in detections:\n",
        "    x0=b_box[0][0]\n",
        "    y0=b_box[0][1]\n",
        "    x1=b_box[0][0]+b_box[0][2]\n",
        "    y1=b_box[0][1]+b_box[0][3]\n",
        "    starter=(int(x0),int(y0))\n",
        "    end=(int(x1),int(y1))\n",
        "    cv2.rectangle(generated_img,starter,end,color=(255,150,0),thickness=1)\n",
        "    cv2.imwrite('result.png',generated_img)\n"
      ]
    },
    {
      "cell_type": "code",
      "execution_count": 21,
      "metadata": {
        "id": "bPc3unKsLwaj"
      },
      "outputs": [],
      "source": [
        "visualize(image, detections)"
      ]
    },
    {
      "cell_type": "code",
      "execution_count": 22,
      "metadata": {
        "colab": {
          "base_uri": "https://localhost:8080/"
        },
        "id": "Lzv-D1kh2AAM",
        "outputId": "04629a21-ecf5-4ea9-d56a-d7f99434d891"
      },
      "outputs": [
        {
          "name": "stdout",
          "output_type": "stream",
          "text": [
            "result.png\n",
            "yes\n"
          ]
        }
      ],
      "source": [
        "# Check if file has been saved or not\n",
        "!(ls result.png && echo yes) || echo no"
      ]
    }
  ],
  "metadata": {
    "colab": {
      "provenance": []
    },
    "kernelspec": {
      "display_name": "Python 3",
      "language": "python",
      "name": "python3"
    },
    "language_info": {
      "codemirror_mode": {
        "name": "ipython",
        "version": 3
      },
      "file_extension": ".py",
      "mimetype": "text/x-python",
      "name": "python",
      "nbconvert_exporter": "python",
      "pygments_lexer": "ipython3",
      "version": "3.11.0"
    },
    "vscode": {
      "interpreter": {
        "hash": "318f2c383d48220c821fefd227250c35bb828f95042f5889a5ad1704b1baf79c"
      }
    }
  },
  "nbformat": 4,
  "nbformat_minor": 0
}
