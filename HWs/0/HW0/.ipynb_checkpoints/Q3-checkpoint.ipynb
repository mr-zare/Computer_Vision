{
 "cells": [
  {
   "cell_type": "markdown",
   "metadata": {
    "id": "P9PoDHBl3QKv"
   },
   "source": [
    "# Q3\n",
    "*Work with Numpy*<br>\n",
    "In this notebook you're going to work with the numpy library to solve the problems<br>\n",
    "Please follow the instructions and hints provided for each cell"
   ]
  },
  {
   "cell_type": "markdown",
   "metadata": {},
   "source": [
    "## Part A"
   ]
  },
  {
   "cell_type": "code",
   "execution_count": null,
   "metadata": {
    "id": "1ZbZ5H1j5Zhw"
   },
   "outputs": [],
   "source": [
    "import numpy as np"
   ]
  },
  {
   "cell_type": "code",
   "execution_count": null,
   "metadata": {
    "id": "5nvuXUyB2aLJ"
   },
   "outputs": [],
   "source": [
    "def create_matrix(n):\n",
    "  \"\"\"\n",
    "  In this function you should create matrix in order of n*n with random numbers \n",
    "  in the [n, n+100) interval.\n",
    "\n",
    "  see the bellow link:\n",
    "    https://numpy.org/doc/stable/reference/random/generated/numpy.random.randint.html\n",
    "\n",
    "  Arguments:\n",
    "    inputs:\n",
    "      n: an integer describing the order of the matrix\n",
    "    outputs:\n",
    "      created matrix  \n",
    "  \"\"\"\n",
    "##matrix=[n][n]\n",
    "    matrix =[[0]*n]*n\n",
    "    \n",
    "for i in range(n):\n",
    "    for j in range(n):\n",
    "        a=np.random.randint(n,n+100)\n",
    "        matrix[i][j]=a\n",
    "  ##############################################\n",
    "  ############ YOUR CODES GO HERE ##############\n",
    "  ##############################################\n",
    "\n",
    "  return matrix"
   ]
  },
  {
   "cell_type": "code",
   "execution_count": null,
   "metadata": {
    "id": "1PiKjLsl6KhD"
   },
   "outputs": [],
   "source": [
    "\"\"\"\n",
    "In this cell you should get the input n and create the matrix by calling the function\n",
    "Then print the matrix\n",
    "\"\"\"\n",
    "##############################################\n",
    "############ YOUR CODES GO HERE ##############\n",
    "\n",
    "n = input()\n",
    "matrix = create_matrix(n)\n",
    "print(matrix)\n",
    "\n",
    "# print matrix\n",
    "##############################################"
   ]
  },
  {
   "cell_type": "code",
   "execution_count": null,
   "metadata": {
    "id": "Cnocq2_56mdx"
   },
   "outputs": [],
   "source": [
    "def count_digits(matrix):\n",
    "  \"\"\"\n",
    "  In this function you should implement a routine to count the digits in the given matrix.\n",
    "\n",
    "  Arguments:\n",
    "    inputs:\n",
    "      matrix: input matrix\n",
    "    outputs:\n",
    "      digits: a dictionary containing digits as its keys and the counted numbers as its value\n",
    "  \"\"\"\n",
    "    mat=matrix\n",
    "    digits = {}\n",
    "    for i  in range(10):\n",
    "        digits[i]=0\n",
    "    for i in range(n):\n",
    "        for j in range(n):\n",
    "            while mat[i][j] > 0 :\n",
    "                baqi=mat[i][j]%10\n",
    "                digits[baqi]=digits[baqi]+1\n",
    "                mat[i][j]=mat[i][j]/10\n",
    "                \n",
    "  ##############################################\n",
    "  ############ YOUR CODES GO HERE ##############\n",
    "  ##############################################\n",
    "\n",
    "  return digits\n"
   ]
  },
  {
   "cell_type": "code",
   "execution_count": null,
   "metadata": {
    "id": "Aq3mHGcc7f2i"
   },
   "outputs": [],
   "source": [
    "\"\"\"\n",
    "In this cell call the implemented function and print the result\n",
    "\"\"\"\n",
    "digits_data=count_digits(matrix)\n",
    "print(digits_data)\n",
    "\n",
    "##############################################\n",
    "############ YOUR CODES GO HERE ##############\n",
    "##############################################"
   ]
  },
  {
   "cell_type": "markdown",
   "metadata": {
    "id": "ALqhYliZ8Ie8"
   },
   "source": [
    "## Part B"
   ]
  },
  {
   "cell_type": "code",
   "execution_count": null,
   "metadata": {
    "id": "bhTfjtO78LT1"
   },
   "outputs": [],
   "source": [
    "def traverse_matrix(matrix):\n",
    "  \"\"\"\n",
    "  Traverse the input matrix in the given manner then print result\n",
    "\n",
    "  Arguments:\n",
    "    inputs:\n",
    "      matrix: input matrix\n",
    "    outputs\n",
    "  \"\"\"\n",
    "######kamel beshe\n",
    "  ##############################################\n",
    "  ############ YOUR CODES GO HERE ##############\n",
    "  ##############################################"
   ]
  },
  {
   "cell_type": "code",
   "execution_count": null,
   "metadata": {
    "id": "9Imf-wvd8oKL"
   },
   "outputs": [],
   "source": [
    "traverse_matrix(matrix)\n",
    "#print output"
   ]
  }
 ],
 "metadata": {
  "colab": {
   "provenance": []
  },
  "kernelspec": {
   "display_name": "Python 3 (ipykernel)",
   "language": "python",
   "name": "python3"
  },
  "language_info": {
   "codemirror_mode": {
    "name": "ipython",
    "version": 3
   },
   "file_extension": ".py",
   "mimetype": "text/x-python",
   "name": "python",
   "nbconvert_exporter": "python",
   "pygments_lexer": "ipython3",
   "version": "3.9.16"
  }
 },
 "nbformat": 4,
 "nbformat_minor": 1
}
